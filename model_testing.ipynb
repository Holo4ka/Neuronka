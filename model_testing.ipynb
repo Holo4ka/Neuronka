{
 "cells": [
  {
   "cell_type": "markdown",
   "id": "0b4cf32c-9c01-4f2d-9074-294690dc9b4c",
   "metadata": {},
   "source": [
    "# Загрузка сохраненной модели"
   ]
  },
  {
   "cell_type": "code",
   "execution_count": 1,
   "id": "9f5a258e-df36-4d61-a889-86d4690092a0",
   "metadata": {},
   "outputs": [],
   "source": [
    "import tensorflow as tf\n",
    "from tensorflow.keras import layers\n",
    "from tensorflow import keras\n",
    "import librosa\n",
    "import numpy as np\n",
    "import matplotlib.pyplot as plt\n",
    "import pandas as pd\n",
    "\n",
    "model = keras.models.load_model('voice_model1.keras')"
   ]
  },
  {
   "cell_type": "code",
   "execution_count": 2,
   "id": "4d15dd8a-7485-4c4e-a54d-463de2a87891",
   "metadata": {},
   "outputs": [],
   "source": [
    "def test_on_filepath(path):\n",
    "    global  model\n",
    "    max_len = 1505\n",
    "    X = []\n",
    "    audio, sr = librosa.load(path)\n",
    "    mfccs = librosa.feature.mfcc(y=audio, sr=sr)\n",
    "    if mfccs.shape[1] < max_len:\n",
    "        pad_width = max_len - mfccs.shape[1]\n",
    "        mfccs = np.pad(mfccs, pad_width=((0, 0), (0, pad_width)), mode='constant')\n",
    "    X.append(mfccs)\n",
    "\n",
    "    X_arr = np.array(X)\n",
    "    X_2d = X_arr.reshape(X_arr.shape[0], X_arr.shape[1] * X_arr.shape[2])\n",
    "\n",
    "    return model.predict(X_2d)"
   ]
  },
  {
   "cell_type": "code",
   "execution_count": 3,
   "id": "407acc3a-186d-4c3f-b743-1bb30d9b9264",
   "metadata": {},
   "outputs": [
    {
     "name": "stdout",
     "output_type": "stream",
     "text": [
      "\u001b[1m1/1\u001b[0m \u001b[32m━━━━━━━━━━━━━━━━━━━━\u001b[0m\u001b[37m\u001b[0m \u001b[1m0s\u001b[0m 55ms/step\n"
     ]
    },
    {
     "data": {
      "text/plain": [
       "array([[0.99579376]], dtype=float32)"
      ]
     },
     "execution_count": 3,
     "metadata": {},
     "output_type": "execute_result"
    }
   ],
   "source": [
    "first_test = 'parts/out00.wav'\n",
    "prediction = test_on_filepath(first_test)\n",
    "prediction"
   ]
  },
  {
   "cell_type": "markdown",
   "id": "5c483a04-0538-40cb-8423-88669a3bf29c",
   "metadata": {},
   "source": [
    "# Проверка на тишине"
   ]
  },
  {
   "cell_type": "code",
   "execution_count": 4,
   "id": "6115952e-2ce4-4b90-b4a2-92a9acc59eab",
   "metadata": {},
   "outputs": [
    {
     "data": {
      "text/plain": [
       "array([[[-794.1729   , -719.861    , -696.18726  , ...,    0.       ,\n",
       "            0.       ,    0.       ],\n",
       "        [ 108.04326  ,  113.1749   ,  118.83409  , ...,    0.       ,\n",
       "            0.       ,    0.       ],\n",
       "        [ -10.671621 ,  -16.215992 ,  -19.375954 , ...,    0.       ,\n",
       "            0.       ,    0.       ],\n",
       "        ...,\n",
       "        [  -4.8956213,   -8.358231 ,   -5.128322 , ...,    0.       ,\n",
       "            0.       ,    0.       ],\n",
       "        [   2.2934937,   -2.5246234,   -3.7941484, ...,    0.       ,\n",
       "            0.       ,    0.       ],\n",
       "        [   2.4417331,    5.2074404,    2.4346085, ...,    0.       ,\n",
       "            0.       ,    0.       ]]], dtype=float32)"
      ]
     },
     "execution_count": 4,
     "metadata": {},
     "output_type": "execute_result"
    }
   ],
   "source": [
    "path = 'big_test/dictophone_silence.wav'\n",
    "\n",
    "max_len = 1505\n",
    "X = []\n",
    "audio, sr = librosa.load(path)\n",
    "mfccs = librosa.feature.mfcc(y=audio, sr=sr)\n",
    "if mfccs.shape[1] < max_len:\n",
    "    pad_width = max_len - mfccs.shape[1]\n",
    "    mfccs = np.pad(mfccs, pad_width=((0, 0), (0, pad_width)), mode='constant')\n",
    "X.append(mfccs)\n",
    "X_arr = np.array(X)\n",
    "\n",
    "X_arr"
   ]
  },
  {
   "cell_type": "code",
   "execution_count": 5,
   "id": "6904dd1a-a081-43e1-989d-f44d364b68b8",
   "metadata": {},
   "outputs": [
    {
     "name": "stdout",
     "output_type": "stream",
     "text": [
      "\u001b[1m1/1\u001b[0m \u001b[32m━━━━━━━━━━━━━━━━━━━━\u001b[0m\u001b[37m\u001b[0m \u001b[1m0s\u001b[0m 19ms/step\n"
     ]
    },
    {
     "data": {
      "text/plain": [
       "0.99579376"
      ]
     },
     "execution_count": 5,
     "metadata": {},
     "output_type": "execute_result"
    }
   ],
   "source": [
    "prd1 = test_on_filepath(path)\n",
    "prd1\n",
    "prd1[0][0]"
   ]
  },
  {
   "cell_type": "markdown",
   "id": "f4e4135f-c4f4-481b-b6dc-6939e06b8c19",
   "metadata": {},
   "source": [
    "# Проверки"
   ]
  },
  {
   "cell_type": "code",
   "execution_count": 6,
   "id": "cf841974-b577-4813-a9a6-3d712970dc26",
   "metadata": {},
   "outputs": [
    {
     "name": "stdout",
     "output_type": "stream",
     "text": [
      "\u001b[1m1/1\u001b[0m \u001b[32m━━━━━━━━━━━━━━━━━━━━\u001b[0m\u001b[37m\u001b[0m \u001b[1m0s\u001b[0m 32ms/step\n",
      "\u001b[1m1/1\u001b[0m \u001b[32m━━━━━━━━━━━━━━━━━━━━\u001b[0m\u001b[37m\u001b[0m \u001b[1m0s\u001b[0m 16ms/step\n",
      "\u001b[1m1/1\u001b[0m \u001b[32m━━━━━━━━━━━━━━━━━━━━\u001b[0m\u001b[37m\u001b[0m \u001b[1m0s\u001b[0m 15ms/step\n",
      "\u001b[1m1/1\u001b[0m \u001b[32m━━━━━━━━━━━━━━━━━━━━\u001b[0m\u001b[37m\u001b[0m \u001b[1m0s\u001b[0m 23ms/step\n",
      "\u001b[1m1/1\u001b[0m \u001b[32m━━━━━━━━━━━━━━━━━━━━\u001b[0m\u001b[37m\u001b[0m \u001b[1m0s\u001b[0m 21ms/step\n",
      "\u001b[1m1/1\u001b[0m \u001b[32m━━━━━━━━━━━━━━━━━━━━\u001b[0m\u001b[37m\u001b[0m \u001b[1m0s\u001b[0m 21ms/step\n",
      "\u001b[1m1/1\u001b[0m \u001b[32m━━━━━━━━━━━━━━━━━━━━\u001b[0m\u001b[37m\u001b[0m \u001b[1m0s\u001b[0m 15ms/step\n",
      "\u001b[1m1/1\u001b[0m \u001b[32m━━━━━━━━━━━━━━━━━━━━\u001b[0m\u001b[37m\u001b[0m \u001b[1m0s\u001b[0m 17ms/step\n",
      "\u001b[1m1/1\u001b[0m \u001b[32m━━━━━━━━━━━━━━━━━━━━\u001b[0m\u001b[37m\u001b[0m \u001b[1m0s\u001b[0m 18ms/step\n",
      "\u001b[1m1/1\u001b[0m \u001b[32m━━━━━━━━━━━━━━━━━━━━\u001b[0m\u001b[37m\u001b[0m \u001b[1m0s\u001b[0m 17ms/step\n",
      "\u001b[1m1/1\u001b[0m \u001b[32m━━━━━━━━━━━━━━━━━━━━\u001b[0m\u001b[37m\u001b[0m \u001b[1m0s\u001b[0m 14ms/step\n",
      "\u001b[1m1/1\u001b[0m \u001b[32m━━━━━━━━━━━━━━━━━━━━\u001b[0m\u001b[37m\u001b[0m \u001b[1m0s\u001b[0m 21ms/step\n",
      "\u001b[1m1/1\u001b[0m \u001b[32m━━━━━━━━━━━━━━━━━━━━\u001b[0m\u001b[37m\u001b[0m \u001b[1m0s\u001b[0m 19ms/step\n",
      "\u001b[1m1/1\u001b[0m \u001b[32m━━━━━━━━━━━━━━━━━━━━\u001b[0m\u001b[37m\u001b[0m \u001b[1m0s\u001b[0m 18ms/step\n",
      "\u001b[1m1/1\u001b[0m \u001b[32m━━━━━━━━━━━━━━━━━━━━\u001b[0m\u001b[37m\u001b[0m \u001b[1m0s\u001b[0m 15ms/step\n",
      "\u001b[1m1/1\u001b[0m \u001b[32m━━━━━━━━━━━━━━━━━━━━\u001b[0m\u001b[37m\u001b[0m \u001b[1m0s\u001b[0m 17ms/step\n",
      "\u001b[1m1/1\u001b[0m \u001b[32m━━━━━━━━━━━━━━━━━━━━\u001b[0m\u001b[37m\u001b[0m \u001b[1m0s\u001b[0m 16ms/step\n",
      "\u001b[1m1/1\u001b[0m \u001b[32m━━━━━━━━━━━━━━━━━━━━\u001b[0m\u001b[37m\u001b[0m \u001b[1m0s\u001b[0m 16ms/step\n",
      "\u001b[1m1/1\u001b[0m \u001b[32m━━━━━━━━━━━━━━━━━━━━\u001b[0m\u001b[37m\u001b[0m \u001b[1m0s\u001b[0m 16ms/step\n",
      "\u001b[1m1/1\u001b[0m \u001b[32m━━━━━━━━━━━━━━━━━━━━\u001b[0m\u001b[37m\u001b[0m \u001b[1m0s\u001b[0m 17ms/step\n",
      "\u001b[1m1/1\u001b[0m \u001b[32m━━━━━━━━━━━━━━━━━━━━\u001b[0m\u001b[37m\u001b[0m \u001b[1m0s\u001b[0m 17ms/step\n",
      "\u001b[1m1/1\u001b[0m \u001b[32m━━━━━━━━━━━━━━━━━━━━\u001b[0m\u001b[37m\u001b[0m \u001b[1m0s\u001b[0m 19ms/step\n",
      "\u001b[1m1/1\u001b[0m \u001b[32m━━━━━━━━━━━━━━━━━━━━\u001b[0m\u001b[37m\u001b[0m \u001b[1m0s\u001b[0m 15ms/step\n",
      "\u001b[1m1/1\u001b[0m \u001b[32m━━━━━━━━━━━━━━━━━━━━\u001b[0m\u001b[37m\u001b[0m \u001b[1m0s\u001b[0m 16ms/step\n",
      "\u001b[1m1/1\u001b[0m \u001b[32m━━━━━━━━━━━━━━━━━━━━\u001b[0m\u001b[37m\u001b[0m \u001b[1m0s\u001b[0m 23ms/step\n"
     ]
    }
   ],
   "source": [
    "import os\n",
    "\n",
    "goal = 0\n",
    "succ = []\n",
    "fail = []\n",
    "total = []\n",
    "for filename in os.listdir('big_test/real'):\n",
    "    if os.path.isfile(os.path.join('big_test/real', filename)):\n",
    "        path = os.path.join('big_test/real', filename)\n",
    "        prediction = test_on_filepath(path)\n",
    "        prediction_int = prediction[0][0]\n",
    "        if prediction_int < 0.2:\n",
    "            succ.append((filename, prediction_int))\n",
    "        else:\n",
    "            fail.append((filename, prediction_int))\n",
    "        total.append((filename, prediction_int))"
   ]
  },
  {
   "cell_type": "code",
   "execution_count": 7,
   "id": "c15000d4-508f-4976-a2dd-f9816c4ab98f",
   "metadata": {},
   "outputs": [
    {
     "data": {
      "text/plain": [
       "5"
      ]
     },
     "execution_count": 7,
     "metadata": {},
     "output_type": "execute_result"
    }
   ],
   "source": [
    "len(succ)"
   ]
  },
  {
   "cell_type": "code",
   "execution_count": 8,
   "id": "dc8874b1-c924-4ed4-a33f-6c76c15ff73e",
   "metadata": {},
   "outputs": [
    {
     "data": {
      "text/plain": [
       "[('audiobook.wav', 0.0003006101),\n",
       " ('karamishev_short.wav', 0.0003006101),\n",
       " ('Stengach.wav', 0.04712905),\n",
       " ('triplewipe.wav', 0.00030074822),\n",
       " ('voeka.ogg', 0.04712905)]"
      ]
     },
     "execution_count": 8,
     "metadata": {},
     "output_type": "execute_result"
    }
   ],
   "source": [
    "succ"
   ]
  },
  {
   "cell_type": "code",
   "execution_count": 9,
   "id": "7e0832cd-7502-483b-a14c-90aff3e3b93c",
   "metadata": {},
   "outputs": [
    {
     "data": {
      "text/plain": [
       "[('Aleksandr.ogg', 0.99579376),\n",
       " ('cats_real.wav', 0.99579376),\n",
       " ('cats_real1.wav', 0.99579376),\n",
       " ('common_voice_en_39586349.mp3', 0.99564725),\n",
       " ('common_voice_en_39586438.mp3', 0.9941737),\n",
       " ('common_voice_en_39586526.mp3', 0.99579376),\n",
       " ('common_voice_en_39586661.mp3', 0.99579376),\n",
       " ('common_voice_ru_39586754.mp3', 0.99579376),\n",
       " ('common_voice_ru_39602077.mp3', 0.99579376),\n",
       " ('common_voice_ru_39604682.mp3', 0.99564725),\n",
       " ('common_voice_ru_39622313.mp3', 0.99417126),\n",
       " ('common_voice_ru_39622341.mp3', 0.9941755),\n",
       " ('common_voice_ru_39802831.mp3', 0.99579376),\n",
       " ('common_voice_ru_39980145.mp3', 0.99579376),\n",
       " ('common_voice_ru_39980181.mp3', 0.99579376),\n",
       " ('common_voice_ru_40179331.mp3', 0.99417126),\n",
       " ('holochka.wav', 0.99579376),\n",
       " ('Koshkina_shorter.wav', 0.99579376),\n",
       " ('maelstorm.wav', 0.97348094),\n",
       " ('stopgame.wav', 0.99579376)]"
      ]
     },
     "execution_count": 9,
     "metadata": {},
     "output_type": "execute_result"
    }
   ],
   "source": [
    "fail"
   ]
  },
  {
   "cell_type": "code",
   "execution_count": 10,
   "id": "333e524d-e333-4636-97db-e7fb77261f8a",
   "metadata": {},
   "outputs": [
    {
     "name": "stdout",
     "output_type": "stream",
     "text": [
      "\u001b[1m1/1\u001b[0m \u001b[32m━━━━━━━━━━━━━━━━━━━━\u001b[0m\u001b[37m\u001b[0m \u001b[1m0s\u001b[0m 18ms/step\n",
      "\u001b[1m1/1\u001b[0m \u001b[32m━━━━━━━━━━━━━━━━━━━━\u001b[0m\u001b[37m\u001b[0m \u001b[1m0s\u001b[0m 19ms/step\n",
      "\u001b[1m1/1\u001b[0m \u001b[32m━━━━━━━━━━━━━━━━━━━━\u001b[0m\u001b[37m\u001b[0m \u001b[1m0s\u001b[0m 16ms/step\n",
      "\u001b[1m1/1\u001b[0m \u001b[32m━━━━━━━━━━━━━━━━━━━━\u001b[0m\u001b[37m\u001b[0m \u001b[1m0s\u001b[0m 16ms/step\n",
      "\u001b[1m1/1\u001b[0m \u001b[32m━━━━━━━━━━━━━━━━━━━━\u001b[0m\u001b[37m\u001b[0m \u001b[1m0s\u001b[0m 22ms/step\n",
      "\u001b[1m1/1\u001b[0m \u001b[32m━━━━━━━━━━━━━━━━━━━━\u001b[0m\u001b[37m\u001b[0m \u001b[1m0s\u001b[0m 19ms/step\n",
      "\u001b[1m1/1\u001b[0m \u001b[32m━━━━━━━━━━━━━━━━━━━━\u001b[0m\u001b[37m\u001b[0m \u001b[1m0s\u001b[0m 24ms/step\n",
      "\u001b[1m1/1\u001b[0m \u001b[32m━━━━━━━━━━━━━━━━━━━━\u001b[0m\u001b[37m\u001b[0m \u001b[1m0s\u001b[0m 23ms/step\n",
      "\u001b[1m1/1\u001b[0m \u001b[32m━━━━━━━━━━━━━━━━━━━━\u001b[0m\u001b[37m\u001b[0m \u001b[1m0s\u001b[0m 22ms/step\n",
      "\u001b[1m1/1\u001b[0m \u001b[32m━━━━━━━━━━━━━━━━━━━━\u001b[0m\u001b[37m\u001b[0m \u001b[1m0s\u001b[0m 24ms/step\n",
      "\u001b[1m1/1\u001b[0m \u001b[32m━━━━━━━━━━━━━━━━━━━━\u001b[0m\u001b[37m\u001b[0m \u001b[1m0s\u001b[0m 20ms/step\n",
      "\u001b[1m1/1\u001b[0m \u001b[32m━━━━━━━━━━━━━━━━━━━━\u001b[0m\u001b[37m\u001b[0m \u001b[1m0s\u001b[0m 19ms/step\n",
      "\u001b[1m1/1\u001b[0m \u001b[32m━━━━━━━━━━━━━━━━━━━━\u001b[0m\u001b[37m\u001b[0m \u001b[1m0s\u001b[0m 28ms/step\n",
      "\u001b[1m1/1\u001b[0m \u001b[32m━━━━━━━━━━━━━━━━━━━━\u001b[0m\u001b[37m\u001b[0m \u001b[1m0s\u001b[0m 19ms/step\n",
      "\u001b[1m1/1\u001b[0m \u001b[32m━━━━━━━━━━━━━━━━━━━━\u001b[0m\u001b[37m\u001b[0m \u001b[1m0s\u001b[0m 21ms/step\n",
      "\u001b[1m1/1\u001b[0m \u001b[32m━━━━━━━━━━━━━━━━━━━━\u001b[0m\u001b[37m\u001b[0m \u001b[1m0s\u001b[0m 27ms/step\n",
      "\u001b[1m1/1\u001b[0m \u001b[32m━━━━━━━━━━━━━━━━━━━━\u001b[0m\u001b[37m\u001b[0m \u001b[1m0s\u001b[0m 21ms/step\n",
      "\u001b[1m1/1\u001b[0m \u001b[32m━━━━━━━━━━━━━━━━━━━━\u001b[0m\u001b[37m\u001b[0m \u001b[1m0s\u001b[0m 28ms/step\n",
      "\u001b[1m1/1\u001b[0m \u001b[32m━━━━━━━━━━━━━━━━━━━━\u001b[0m\u001b[37m\u001b[0m \u001b[1m0s\u001b[0m 22ms/step\n",
      "\u001b[1m1/1\u001b[0m \u001b[32m━━━━━━━━━━━━━━━━━━━━\u001b[0m\u001b[37m\u001b[0m \u001b[1m0s\u001b[0m 23ms/step\n",
      "\u001b[1m1/1\u001b[0m \u001b[32m━━━━━━━━━━━━━━━━━━━━\u001b[0m\u001b[37m\u001b[0m \u001b[1m0s\u001b[0m 17ms/step\n",
      "\u001b[1m1/1\u001b[0m \u001b[32m━━━━━━━━━━━━━━━━━━━━\u001b[0m\u001b[37m\u001b[0m \u001b[1m0s\u001b[0m 15ms/step\n",
      "\u001b[1m1/1\u001b[0m \u001b[32m━━━━━━━━━━━━━━━━━━━━\u001b[0m\u001b[37m\u001b[0m \u001b[1m0s\u001b[0m 17ms/step\n",
      "\u001b[1m1/1\u001b[0m \u001b[32m━━━━━━━━━━━━━━━━━━━━\u001b[0m\u001b[37m\u001b[0m \u001b[1m0s\u001b[0m 18ms/step\n",
      "\u001b[1m1/1\u001b[0m \u001b[32m━━━━━━━━━━━━━━━━━━━━\u001b[0m\u001b[37m\u001b[0m \u001b[1m0s\u001b[0m 18ms/step\n"
     ]
    }
   ],
   "source": [
    "succ2 = []\n",
    "fail2 = []\n",
    "for filename in os.listdir('big_test/false'):\n",
    "    if os.path.isfile(os.path.join('big_test/false', filename)):\n",
    "        path = os.path.join('big_test/false', filename)\n",
    "        prediction = test_on_filepath(path)\n",
    "        prediction_int = prediction[0][0]\n",
    "        if prediction_int > 0.8:\n",
    "            succ2.append((filename, prediction_int))\n",
    "        else:\n",
    "            fail2.append((filename, prediction_int))\n",
    "        total.append((filename, prediction_int))"
   ]
  },
  {
   "cell_type": "code",
   "execution_count": 11,
   "id": "e8072ea1-5356-48be-9ea3-25d16fc0588b",
   "metadata": {},
   "outputs": [
    {
     "data": {
      "text/plain": [
       "[('audiobook.wav', 0.0003006101),\n",
       " ('karamishev_short.wav', 0.0003006101),\n",
       " ('Stengach.wav', 0.04712905),\n",
       " ('triplewipe.wav', 0.00030074822),\n",
       " ('voeka.ogg', 0.04712905)]"
      ]
     },
     "execution_count": 11,
     "metadata": {},
     "output_type": "execute_result"
    }
   ],
   "source": [
    "succ"
   ]
  },
  {
   "cell_type": "code",
   "execution_count": 12,
   "id": "7664f4f0-1a4a-4b81-9abc-eb8141df7144",
   "metadata": {},
   "outputs": [
    {
     "data": {
      "text/plain": [
       "22"
      ]
     },
     "execution_count": 12,
     "metadata": {},
     "output_type": "execute_result"
    }
   ],
   "source": [
    "len(succ2)"
   ]
  },
  {
   "cell_type": "code",
   "execution_count": 13,
   "id": "64d49b38-7ca6-4002-873d-bea28ed717fd",
   "metadata": {},
   "outputs": [
    {
     "data": {
      "text/plain": [
       "[('elevenlabs.mp3', 0.99579376),\n",
       " ('sber_salut1_short.wav', 0.99579376),\n",
       " ('sber_salut3_short.wav', 0.97124964),\n",
       " ('sber_salut4.wav', 0.99579376),\n",
       " ('sber_salut5.wav', 0.99579376),\n",
       " ('tts_online_short.wav', 0.99579376),\n",
       " ('voicemaker1.wav', 0.99579376),\n",
       " ('voicemaker2.wav', 0.99579376),\n",
       " ('voicemaker3.wav', 0.99579376),\n",
       " ('voicemaker4.wav', 0.99579376),\n",
       " ('vosktts1.wav', 0.99579376),\n",
       " ('vosktts2_short.wav', 0.99579376),\n",
       " ('vosktts3.wav', 0.99579376),\n",
       " ('vosktts5.wav', 0.99579376),\n",
       " ('yandex_tts1.ogg', 0.99579376),\n",
       " ('yandex_tts_2.ogg', 0.99579376),\n",
       " ('yandex_tts_3.ogg', 0.99579376),\n",
       " ('Алиса1.wav', 0.99579376),\n",
       " ('Алиса2.wav', 0.99579376),\n",
       " ('Алиса3.wav', 0.99579376),\n",
       " ('Алиса4.wav', 0.99579376),\n",
       " ('Алиса5.wav', 0.99579376)]"
      ]
     },
     "execution_count": 13,
     "metadata": {},
     "output_type": "execute_result"
    }
   ],
   "source": [
    "succ2"
   ]
  },
  {
   "cell_type": "code",
   "execution_count": 14,
   "id": "504fb3c3-da57-4781-b6e2-ceac888c32cf",
   "metadata": {},
   "outputs": [
    {
     "data": {
      "text/plain": [
       "[('sber_salut2_short.wav', 0.0003006101),\n",
       " ('tts_short.wav', 0.04105812),\n",
       " ('vosktts4.wav', 0.0003006101)]"
      ]
     },
     "execution_count": 14,
     "metadata": {},
     "output_type": "execute_result"
    }
   ],
   "source": [
    "fail2"
   ]
  },
  {
   "cell_type": "code",
   "execution_count": 15,
   "id": "a75f9536-f38f-480a-a99f-36575a93ee1d",
   "metadata": {},
   "outputs": [
    {
     "data": {
      "text/plain": [
       "0.54"
      ]
     },
     "execution_count": 15,
     "metadata": {},
     "output_type": "execute_result"
    }
   ],
   "source": [
    "(len(succ) + len(succ2)) / 50"
   ]
  },
  {
   "cell_type": "code",
   "execution_count": null,
   "id": "75f74eed-cc4f-4640-8a9d-c35fcedc8745",
   "metadata": {},
   "outputs": [],
   "source": []
  }
 ],
 "metadata": {
  "kernelspec": {
   "display_name": "Python 3 (ipykernel)",
   "language": "python",
   "name": "python3"
  },
  "language_info": {
   "codemirror_mode": {
    "name": "ipython",
    "version": 3
   },
   "file_extension": ".py",
   "mimetype": "text/x-python",
   "name": "python",
   "nbconvert_exporter": "python",
   "pygments_lexer": "ipython3",
   "version": "3.11.4"
  }
 },
 "nbformat": 4,
 "nbformat_minor": 5
}
